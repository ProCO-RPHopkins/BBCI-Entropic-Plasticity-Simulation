{
 "cells": [
  {
   "cell_type": "markdown",
   "metadata": {},
   "source": [
    "# Simulating Neural Connectivity and Entropic Modulation: A BBCI Framework"
   ]
  },
  {
   "cell_type": "markdown",
   "metadata": {},
   "source": [
    "In this notebook, we simulate a simplified bidirectional brain-computer interface (BBCI) that:\n",
    "- **Simulates neural activity** in two brain regions (to mimic hemispheric isolation seen in ASD).\n",
    "- **Applies an entropy function** to one region to model enhanced neural malleability.\n",
    "- **Uses a simple machine learning model** (a feedforward neural network) to decode \"intent\" from neural activity.\n",
    "- **Implements neural stimulation** that boosts underactive neurons and synchronizes activity between regions.\n",
    "- **Visualizes and exports data** for further analysis.\n",
    "\n",
    "Each section is explained in plain language so that anyone—even with a basic background—can follow along."
   ]
  },
  {
   "cell_type": "code",
   "execution_count": null,
   "metadata": {},
   "outputs": [
    {
     "data": {
      "text/plain": [
       "TaskLocalRNG()"
      ]
     },
     "metadata": {},
     "output_type": "display_data"
    }
   ],
   "source": [
    "# Import the necessary libraries.\n",
    "using Random              # For generating random numbers (simulating noise).\n",
    "using Flux                # For building and training the neural network.\n",
    "using Plots               # For plotting and visualizing the neural activity.\n",
    "using DataFrames, CSV     # For handling and exporting data as CSV files.\n",
    "using Statistics          # For calculating the mean and standard deviation.\n",
    "# using Lux               WILL HAVE TO INSTALL LUX PACKAGE FOR STEP 3, 2ND CELL BLOCK - RECONFIGURE CODE TO MATCH PKG\n",
    "\n",
    "# Set a seed for reproducibility so that the random numbers remain the same on every run.\n",
    "Random.seed!(42)\n"
   ]
  },
  {
   "cell_type": "markdown",
   "metadata": {},
   "source": [
    "## 1. Simulating Neural Activity"
   ]
  },
  {
   "cell_type": "markdown",
   "metadata": {},
   "source": [
    "We will simulate neural activity as a time series for two brain regions (Region 1 and Region 2).  \n",
    "\n",
    "- **Assumptions**  \n",
    "  - 100 time steps (each step can be thought of as a moment in time).  \n",
    "  - 10 neurons per region.  \n",
    "- **What we do**  \n",
    "  - Start with all neurons at zero activity.\n",
    "  - At each time step, we add a small random perturbation (noise) to each neuron's activity.\n",
    "  - For Region 2, we also add a small contribution from Region 1 to model weak connectivity (this represents hemispheric isolation)."
   ]
  },
  {
   "cell_type": "code",
   "execution_count": 32,
   "metadata": {},
   "outputs": [],
   "source": [
    "# Define simulation parameters.\n",
    "n_time = 100         # Total time steps.\n",
    "n_neurons = 10       # Number of neurons per region.\n",
    "\n",
    "# Initialize matrices (rows: time steps, columns: neurons) with zeros.\n",
    "region1 = zeros(n_time, n_neurons)\n",
    "region2 = zeros(n_time, n_neurons)\n",
    "\n",
    "# Simulate neural activity over time.\n",
    "for t in 2:n_time\n",
    "    # Update Region 1 activity: previous activity + small random noise.\n",
    "    region1[t, :] = region1[t-1, :] .+ 0.1 * randn(n_neurons)\n",
    "    \n",
    "    # Update Region 2 activity similarly.\n",
    "    region2[t, :] = region2[t-1, :] .+ 0.1 * randn(n_neurons)\n",
    "    \n",
    "    # Introduce weak connectivity: add a small fraction of Region 1's current activity.\n",
    "    region2[t, :] += 0.05 * region1[t, :]\n",
    "end\n"
   ]
  },
  {
   "cell_type": "markdown",
   "metadata": {},
   "source": [
    "## 2. Enhancing Neural Malleability Using an Entropy Function"
   ]
  },
  {
   "cell_type": "markdown",
   "metadata": {},
   "source": [
    "To mimic the effects of enhanced neuroplasticity (as suggested by entropic brain theory), we create a function that:\n",
    "- **Adds extra noise (variability)** to the neural activity in Region 2.\n",
    "- **Entropy Level:** This is a parameter (default is 0.3) that controls how much extra noise is added."
   ]
  },
  {
   "cell_type": "code",
   "execution_count": 33,
   "metadata": {},
   "outputs": [
    {
     "data": {
      "text/plain": [
       "100×10 Matrix{Float64}:\n",
       "  0.237379    0.190872    0.134798     …  -0.523841   0.239354   -0.00444808\n",
       "  0.19965    -0.07744    -0.334169         0.031434   0.253277   -0.0627057\n",
       "  0.143282    0.346833   -0.257489         0.354868   0.0564403   0.150206\n",
       "  0.110071    0.257296    0.226463        -0.413285  -0.0545614  -0.580282\n",
       " -0.145346   -0.0104751  -0.618799         0.228511  -0.0810332  -0.176792\n",
       " -0.306633    0.0956943   0.0865034    …   0.244574  -0.191363   -0.233026\n",
       " -0.0815013   0.166815   -0.105883         0.541228  -0.298998   -0.536892\n",
       " -0.0373385   0.183      -0.0617603        0.74702    0.0363166  -0.0569137\n",
       "  0.018432   -0.176622    0.000743684     -0.4461    -0.325429    0.360749\n",
       "  0.288919   -0.158934    0.0347452       -0.404843  -0.517988   -0.441592\n",
       "  ⋮                                    ⋱                         \n",
       "  2.83231    -2.41993     0.574363        -0.243366  -3.20437    -0.39269\n",
       "  3.55837    -2.24304     0.637269        -0.195587  -2.96831     0.587667\n",
       "  3.8733     -2.73073     0.585832        -0.59746   -2.73301     0.0741325\n",
       "  3.36936    -1.98781     0.284338        -0.972439  -2.84324     0.153477\n",
       "  3.44669    -2.41451     0.778679     …  -0.400408  -2.80704     0.205612\n",
       "  3.1157     -1.76364     1.48152         -0.37678   -2.5386      0.023402\n",
       "  3.71448    -1.5252     -0.0673787       -0.485985  -3.24924     0.088024\n",
       "  3.59505    -2.09934     1.03201         -1.15142   -3.39991     0.326672\n",
       "  4.18374    -2.29975     0.812149        -0.996096  -3.69551     1.0359"
      ]
     },
     "metadata": {},
     "output_type": "display_data"
    }
   ],
   "source": [
    "# Define a function that applies an \"entropy\" transformation.\n",
    "function apply_entropy(activity, entropy_level=0.3)\n",
    "    # Add extra random noise to simulate increased variability.\n",
    "    noisy_activity = activity .+ entropy_level * randn(size(activity)...)\n",
    "    return noisy_activity\n",
    "end\n",
    "\n",
    "# Apply the entropy function to Region 2.\n",
    "region2_entropy = apply_entropy(region2)\n"
   ]
  },
  {
   "cell_type": "markdown",
   "metadata": {},
   "source": [
    "## 3. Intent Recognition with a Machine Learning Model"
   ]
  },
  {
   "cell_type": "markdown",
   "metadata": {},
   "source": [
    "Now we use a simple feedforward neural network to “recognize intent” based on the neural activity from both regions.\n",
    "  \n",
    "**How to prepare the data**  \n",
    "- We combine the activity from both regions by taking the average (element-wise) so that each time step yields a single vector (of length 10).  \n",
    "- We then create labels based on whether the average firing rate is above a threshold (for demonstration purposes, we use a simple rule).\n",
    "\n",
    "**Neural Network Architecture**  \n",
    "- **Input layer:** 10 neurons (one per averaged firing rate).  \n",
    "- **Hidden layer:** 16 neurons with a ReLU activation function.  \n",
    "- **Output layer:** 2 neurons with softmax activation (to classify into 2 classes, e.g., \"intent 0\" or \"intent 1\")."
   ]
  },
  {
   "cell_type": "code",
   "execution_count": 34,
   "metadata": {},
   "outputs": [
    {
     "data": {
      "text/plain": [
       "2×100 OneHotMatrix(::Vector{UInt32}) with eltype Bool:\n",
       " 1  1  ⋅  1  1  1  1  ⋅  1  1  1  ⋅  ⋅  …  1  1  1  1  1  1  1  1  1  1  1  1\n",
       " ⋅  ⋅  1  ⋅  ⋅  ⋅  ⋅  1  ⋅  ⋅  ⋅  1  1     ⋅  ⋅  ⋅  ⋅  ⋅  ⋅  ⋅  ⋅  ⋅  ⋅  ⋅  ⋅"
      ]
     },
     "metadata": {},
     "output_type": "display_data"
    }
   ],
   "source": [
    "# Combine activity from both regions by averaging each neuron's activity across regions.\n",
    "X_ml = (region1 .+ region2_entropy) ./ 2  # Resulting size: (n_time, n_neurons)\n",
    "\n",
    "# Create labels: if the mean activity of a time step is above 0.05, we label it as 1 (else 0).\n",
    "y = [mean(X_ml[t, :]) > 0.05 ? 1 : 0 for t in 1:n_time]\n",
    "\n",
    "# Flux models expect data as columns (features x samples), so transpose the data.\n",
    "X_ml = transpose(X_ml)  # Now size is (10, n_time)\n",
    "\n",
    "# Convert labels into one-hot encoding for classification.\n",
    "y_oh = Flux.onehotbatch(y, 0:1)\n"
   ]
  },
  {
   "cell_type": "code",
   "execution_count": 41,
   "metadata": {},
   "outputs": [
    {
     "name": "stderr",
     "output_type": "stream",
     "text": [
      "┌ Info: Epoch: 10 Loss: 0.711203\n",
      "└ @ Main c:\\Users\\ryan.hopkins\\Videos\\BCImodel\\jl_notebook_cell_df34fa98e69747e1a8f8a730347b8e2f_X26sZmlsZQ==.jl:26\n",
      "┌ Info: Epoch: 20 Loss: 0.68675774\n",
      "└ @ Main c:\\Users\\ryan.hopkins\\Videos\\BCImodel\\jl_notebook_cell_df34fa98e69747e1a8f8a730347b8e2f_X26sZmlsZQ==.jl:26\n",
      "┌ Info: Epoch: 30 Loss: 0.66709435\n",
      "└ @ Main c:\\Users\\ryan.hopkins\\Videos\\BCImodel\\jl_notebook_cell_df34fa98e69747e1a8f8a730347b8e2f_X26sZmlsZQ==.jl:26\n",
      "┌ Info: Epoch: 40 Loss: 0.65041524\n",
      "└ @ Main c:\\Users\\ryan.hopkins\\Videos\\BCImodel\\jl_notebook_cell_df34fa98e69747e1a8f8a730347b8e2f_X26sZmlsZQ==.jl:26\n",
      "┌ Info: Epoch: 50 Loss: 0.6352469\n",
      "└ @ Main c:\\Users\\ryan.hopkins\\Videos\\BCImodel\\jl_notebook_cell_df34fa98e69747e1a8f8a730347b8e2f_X26sZmlsZQ==.jl:26\n",
      "┌ Info: Epoch: 60 Loss: 0.6217018\n",
      "└ @ Main c:\\Users\\ryan.hopkins\\Videos\\BCImodel\\jl_notebook_cell_df34fa98e69747e1a8f8a730347b8e2f_X26sZmlsZQ==.jl:26\n",
      "┌ Info: Epoch: 70 Loss: 0.60891443\n",
      "└ @ Main c:\\Users\\ryan.hopkins\\Videos\\BCImodel\\jl_notebook_cell_df34fa98e69747e1a8f8a730347b8e2f_X26sZmlsZQ==.jl:26\n",
      "┌ Info: Epoch: 80 Loss: 0.5965382\n",
      "└ @ Main c:\\Users\\ryan.hopkins\\Videos\\BCImodel\\jl_notebook_cell_df34fa98e69747e1a8f8a730347b8e2f_X26sZmlsZQ==.jl:26\n",
      "┌ Info: Epoch: 90 Loss: 0.5841869\n",
      "└ @ Main c:\\Users\\ryan.hopkins\\Videos\\BCImodel\\jl_notebook_cell_df34fa98e69747e1a8f8a730347b8e2f_X26sZmlsZQ==.jl:26\n",
      "┌ Info: Epoch: 100 Loss: 0.5721969\n",
      "└ @ Main c:\\Users\\ryan.hopkins\\Videos\\BCImodel\\jl_notebook_cell_df34fa98e69747e1a8f8a730347b8e2f_X26sZmlsZQ==.jl:26\n"
     ]
    }
   ],
   "source": [
    "# Convert your training data to Float32 so it matches the model parameters.\n",
    "X_ml = Float32.(X_ml)\n",
    "\n",
    "# Define the neural network model.\n",
    "model = Chain(\n",
    "    Dense(10, 16, relu),  # Input layer: 10 neurons → hidden layer with 16 neurons.\n",
    "    Dense(16, 2),         # Hidden layer → output layer with 2 neurons.\n",
    "    softmax               # Softmax activation for output probabilities.\n",
    ")\n",
    "\n",
    "# Define the loss function to accept the model as the first parameter.\n",
    "loss(m, x, y) = Flux.crossentropy(m(x), y)\n",
    "\n",
    "# Define the optimizer with a learning rate of 0.01.\n",
    "opt = Descent(0.01f0)\n",
    "\n",
    "# Create a data iterator. In this simple example, we wrap our entire dataset into a single-element array.\n",
    "data = [(X_ml, y_oh)]\n",
    "\n",
    "# Training loop using Flux.train! for 100 epochs.\n",
    "for epoch in 1:100\n",
    "    Flux.train!(loss, model, data, opt)\n",
    "    \n",
    "    # Every 10 epochs, print the current loss.\n",
    "    if epoch % 10 == 0\n",
    "        @info \"Epoch: $epoch Loss: $(loss(model, X_ml, y_oh))\"\n",
    "    end\n",
    "end\n"
   ]
  },
  {
   "cell_type": "markdown",
   "metadata": {},
   "source": [
    "## 4. Neural Modulation via Stimulation and Synchronization"
   ]
  },
  {
   "cell_type": "markdown",
   "metadata": {},
   "source": [
    "To simulate the bidirectional control in a BBCI:\n",
    "- **Stimulation:** We boost the activity of neurons in Region 2 that have firing rates below a threshold (0.3). For these neurons, we add an extra 0.5 to their activity.\n",
    "- **Synchronization:** We then adjust Region 2’s activity so that it becomes more similar to Region 1 (by averaging both regions).\n",
    "\n",
    "This mimics how an external device might guide neural activity toward a healthier, more connected state."
   ]
  },
  {
   "cell_type": "code",
   "execution_count": null,
   "metadata": {},
   "outputs": [],
   "source": [
    "# Define a function that stimulates underactive neurons.\n",
    "function stimulate_neural_activity(activity, threshold=0.3, stimulation=0.5)\n",
    "    # Make a copy to avoid changing the original data.\n",
    "    stimulated = copy(activity)\n",
    "    # Loop through every element and add stimulation if below the threshold.\n",
    "    for i in eachindex(activity)\n",
    "        if activity[i] < threshold\n",
    "            stimulated[i] += stimulation\n",
    "        end\n",
    "    end\n",
    "    return stimulated\n",
    "end\n",
    "\n",
    "# Apply stimulation to the entropy-modified Region 2.\n",
    "region2_stimulated = stimulate_neural_activity(region2_entropy)\n",
    "\n",
    "# Synchronize Region 2 to move its activity closer to Region 1 by averaging both.\n",
    "region2_sync = 0.5 .* region2_stimulated .+ 0.5 .* region1\n"
   ]
  },
  {
   "cell_type": "markdown",
   "metadata": {},
   "source": [
    "## 5. Visualization of Neural Activity"
   ]
  },
  {
   "cell_type": "markdown",
   "metadata": {},
   "source": [
    "We now plot the neural activity over time for a representative neuron (Neuron 1) in:\n",
    "- **Region 1 (baseline)**\n",
    "- **Region 2 after applying entropy**\n",
    "- **Region 2 after stimulation and synchronization**\n",
    "\n",
    "This helps us visually understand how the neural activity changes with each intervention."
   ]
  },
  {
   "cell_type": "code",
   "execution_count": null,
   "metadata": {},
   "outputs": [],
   "source": [
    "# Create a time vector for plotting.\n",
    "time_steps = 1:n_time\n",
    "\n",
    "# Plot the activity for Neuron 1 from each dataset.\n",
    "plot(time_steps, region1[:, 1], label=\"Region 1 (Neuron 1)\", lw=2)\n",
    "plot!(time_steps, region2_entropy[:, 1], label=\"Region 2 with Entropy (Neuron 1)\", lw=2)\n",
    "plot!(time_steps, region2_sync[:, 1], label=\"Region 2 After Stimulation & Sync (Neuron 1)\", lw=2)\n",
    "xlabel!(\"Time Step\")\n",
    "ylabel!(\"Firing Rate\")\n",
    "title!(\"Neural Activity Over Time (Neuron 1)\")\n"
   ]
  },
  {
   "cell_type": "markdown",
   "metadata": {},
   "source": [
    "## 6. Exporting the Results to a CSV File"
   ]
  },
  {
   "cell_type": "markdown",
   "metadata": {},
   "source": [
    "For further analysis or sharing, we export the following:\n",
    "- **Time step**\n",
    "- **Mean firing rate of Region 1**\n",
    "- **Mean firing rate of Region 2 after entropy**\n",
    "- **Mean firing rate of Region 2 after stimulation and synchronization**\n",
    "\n",
    "We use the DataFrames and CSV libraries to create a table and write it out to a CSV file."
   ]
  },
  {
   "cell_type": "code",
   "execution_count": null,
   "metadata": {},
   "outputs": [],
   "source": [
    "# %% [code]\n",
    "# Create a DataFrame to store the mean firing rates over time.\n",
    "df = DataFrame(\n",
    "    Time = time_steps,\n",
    "    Region1_Mean = [mean(region1[t, :]) for t in time_steps],\n",
    "    Region2_Entropy_Mean = [mean(region2_entropy[t, :]) for t in time_steps],\n",
    "    Region2_Sync_Mean = [mean(region2_sync[t, :]) for t in time_steps]\n",
    ")\n",
    "\n",
    "# Write the DataFrame to a CSV file.\n",
    "CSV.write(\"neural_activity_results.csv\", df)\n"
   ]
  },
  {
   "cell_type": "markdown",
   "metadata": {},
   "source": [
    "# Conclusion"
   ]
  },
  {
   "cell_type": "markdown",
   "metadata": {},
   "source": [
    "In this notebook we\n",
    "- **Simulated neural activity** in two brain regions with a built-in weak connectivity (to mimic hemispheric isolation).\n",
    "- **Applied an entropy function** to increase neural variability in Region 2, simulating enhanced neuroplasticity.\n",
    "- **Built and trained a simple neural network** to recognize intent from the averaged neural activity.\n",
    "- **Implemented a stimulation function** to boost underactive neurons and synchronize activity between the two regions.\n",
    "- **Visualized and exported the data** so that the results can be further analyzed.\n",
    "\n",
    "This simplified model provides a foundation for exploring how a bidirectional brain-computer interface could work in enhancing inter-regional connectivity, which is especially relevant in conditions like autism spectrum disorder. Future work could expand on these ideas with more detailed simulations, richer datasets, and advanced machine learning techniques."
   ]
  }
 ],
 "metadata": {
  "kernelspec": {
   "display_name": "Julia 1.11.3",
   "language": "julia",
   "name": "julia-1.11"
  },
  "language_info": {
   "file_extension": ".jl",
   "mimetype": "application/julia",
   "name": "julia",
   "version": "1.11.3"
  }
 },
 "nbformat": 4,
 "nbformat_minor": 2
}
